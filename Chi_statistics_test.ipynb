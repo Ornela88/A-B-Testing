{
 "cells": [
  {
   "cell_type": "code",
   "execution_count": 200,
   "metadata": {},
   "outputs": [],
   "source": [
    "# Upload library\n",
    "import numpy as np\n",
    "import pandas as pd\n",
    "import matplotlib.pyplot as plt\n",
    "from scipy.stats import chi2_contingency"
   ]
  },
  {
   "cell_type": "code",
   "execution_count": 201,
   "metadata": {},
   "outputs": [],
   "source": [
    "pd.set_option('max_colwidth', 400)"
   ]
  },
  {
   "cell_type": "code",
   "execution_count": 202,
   "metadata": {},
   "outputs": [],
   "source": [
    "# Define the file path\n",
    "file_path_1 = './Versions/Version_1/Version1_ Interact.csv'\n",
    "file_path_2 = './Versions/Version_2/Version_2_Connect.csv'\n",
    "file_path_3 = './Versions/Version_3/Version_3_Learn.csv'\n",
    "file_path_4 = './Versions/Version_4/Version_4 _Help.csv'\n",
    "file_path_5 = './Versions/Version_5/Version_5_Services.csv'\n",
    "# Read the CSV file into a pandas DataFrame\n",
    "Interact = pd.read_csv(file_path_1)\n",
    "Connect = pd.read_csv(file_path_2)\n",
    "Learn = pd.read_csv(file_path_3)\n",
    "Help = pd.read_csv(file_path_4)\n",
    "Services = pd.read_csv(file_path_5)\n"
   ]
  },
  {
   "cell_type": "code",
   "execution_count": 203,
   "metadata": {
    "scrolled": false
   },
   "outputs": [
    {
     "data": {
      "text/html": [
       "<div>\n",
       "<style scoped>\n",
       "    .dataframe tbody tr th:only-of-type {\n",
       "        vertical-align: middle;\n",
       "    }\n",
       "\n",
       "    .dataframe tbody tr th {\n",
       "        vertical-align: top;\n",
       "    }\n",
       "\n",
       "    .dataframe thead th {\n",
       "        text-align: right;\n",
       "    }\n",
       "</style>\n",
       "<table border=\"1\" class=\"dataframe\">\n",
       "  <thead>\n",
       "    <tr style=\"text-align: right;\">\n",
       "      <th></th>\n",
       "      <th>Element ID</th>\n",
       "      <th>Tag name</th>\n",
       "      <th>Name</th>\n",
       "      <th>No. clicks</th>\n",
       "      <th>Visible?</th>\n",
       "      <th>Snapshot information</th>\n",
       "    </tr>\n",
       "  </thead>\n",
       "  <tbody>\n",
       "    <tr>\n",
       "      <th>0</th>\n",
       "      <td>128</td>\n",
       "      <td>area</td>\n",
       "      <td>Montana State University - Home</td>\n",
       "      <td>1291</td>\n",
       "      <td>False</td>\n",
       "      <td>Homepage Version 1 - Interact   •   http://www.lib.montana.edu/index.php</td>\n",
       "    </tr>\n",
       "    <tr>\n",
       "      <th>1</th>\n",
       "      <td>69</td>\n",
       "      <td>a</td>\n",
       "      <td>FIND</td>\n",
       "      <td>842</td>\n",
       "      <td>True</td>\n",
       "      <td>created 5-29-2013   •   20 days 4 hours 21 mins   •   10283 visits, 3714 clicks</td>\n",
       "    </tr>\n",
       "  </tbody>\n",
       "</table>\n",
       "</div>"
      ],
      "text/plain": [
       "   Element ID Tag name                             Name  No. clicks  Visible?  \\\n",
       "0         128     area  Montana State University - Home        1291     False   \n",
       "1          69        a                             FIND         842      True   \n",
       "\n",
       "                                                              Snapshot information  \n",
       "0         Homepage Version 1 - Interact   •   http://www.lib.montana.edu/index.php  \n",
       "1  created 5-29-2013   •   20 days 4 hours 21 mins   •   10283 visits, 3714 clicks  "
      ]
     },
     "execution_count": 203,
     "metadata": {},
     "output_type": "execute_result"
    }
   ],
   "source": [
    "Interact.head(2)"
   ]
  },
  {
   "cell_type": "code",
   "execution_count": 204,
   "metadata": {},
   "outputs": [
    {
     "data": {
      "text/html": [
       "<div>\n",
       "<style scoped>\n",
       "    .dataframe tbody tr th:only-of-type {\n",
       "        vertical-align: middle;\n",
       "    }\n",
       "\n",
       "    .dataframe tbody tr th {\n",
       "        vertical-align: top;\n",
       "    }\n",
       "\n",
       "    .dataframe thead th {\n",
       "        text-align: right;\n",
       "    }\n",
       "</style>\n",
       "<table border=\"1\" class=\"dataframe\">\n",
       "  <thead>\n",
       "    <tr style=\"text-align: right;\">\n",
       "      <th></th>\n",
       "      <th>Element ID</th>\n",
       "      <th>Tag name</th>\n",
       "      <th>Name</th>\n",
       "      <th>No. clicks</th>\n",
       "      <th>Visible?</th>\n",
       "      <th>Snapshot information</th>\n",
       "    </tr>\n",
       "  </thead>\n",
       "  <tbody>\n",
       "    <tr>\n",
       "      <th>0</th>\n",
       "      <td>74</td>\n",
       "      <td>a</td>\n",
       "      <td>FIND</td>\n",
       "      <td>502</td>\n",
       "      <td>True</td>\n",
       "      <td>Homepage Version 2 - Connect   •   http://www.lib.montana.edu/index2.php</td>\n",
       "    </tr>\n",
       "    <tr>\n",
       "      <th>1</th>\n",
       "      <td>66</td>\n",
       "      <td>input</td>\n",
       "      <td>s.q</td>\n",
       "      <td>357</td>\n",
       "      <td>True</td>\n",
       "      <td>created 5-29-2013   •   20 days 7 hours 34 mins   •   2742 visits, 1587 clicks</td>\n",
       "    </tr>\n",
       "    <tr>\n",
       "      <th>2</th>\n",
       "      <td>72</td>\n",
       "      <td>a</td>\n",
       "      <td>lib.montana.edu/find/</td>\n",
       "      <td>171</td>\n",
       "      <td>True</td>\n",
       "      <td>NaN</td>\n",
       "    </tr>\n",
       "  </tbody>\n",
       "</table>\n",
       "</div>"
      ],
      "text/plain": [
       "   Element ID Tag name                   Name  No. clicks  Visible?  \\\n",
       "0          74        a                   FIND         502      True   \n",
       "1          66    input                    s.q         357      True   \n",
       "2          72        a  lib.montana.edu/find/         171      True   \n",
       "\n",
       "                                                             Snapshot information  \n",
       "0        Homepage Version 2 - Connect   •   http://www.lib.montana.edu/index2.php  \n",
       "1  created 5-29-2013   •   20 days 7 hours 34 mins   •   2742 visits, 1587 clicks  \n",
       "2                                                                             NaN  "
      ]
     },
     "execution_count": 204,
     "metadata": {},
     "output_type": "execute_result"
    }
   ],
   "source": [
    "Connect.head(3)"
   ]
  },
  {
   "cell_type": "code",
   "execution_count": 205,
   "metadata": {},
   "outputs": [
    {
     "data": {
      "text/html": [
       "<div>\n",
       "<style scoped>\n",
       "    .dataframe tbody tr th:only-of-type {\n",
       "        vertical-align: middle;\n",
       "    }\n",
       "\n",
       "    .dataframe tbody tr th {\n",
       "        vertical-align: top;\n",
       "    }\n",
       "\n",
       "    .dataframe thead th {\n",
       "        text-align: right;\n",
       "    }\n",
       "</style>\n",
       "<table border=\"1\" class=\"dataframe\">\n",
       "  <thead>\n",
       "    <tr style=\"text-align: right;\">\n",
       "      <th></th>\n",
       "      <th>Element ID</th>\n",
       "      <th>Tag name</th>\n",
       "      <th>Name</th>\n",
       "      <th>No. clicks</th>\n",
       "      <th>Visible?</th>\n",
       "      <th>Snapshot information</th>\n",
       "    </tr>\n",
       "  </thead>\n",
       "  <tbody>\n",
       "    <tr>\n",
       "      <th>0</th>\n",
       "      <td>69</td>\n",
       "      <td>a</td>\n",
       "      <td>FIND</td>\n",
       "      <td>587</td>\n",
       "      <td>True</td>\n",
       "      <td>Homepage Version 3 - Learn   •   http://www.lib.montana.edu/index3.php</td>\n",
       "    </tr>\n",
       "    <tr>\n",
       "      <th>1</th>\n",
       "      <td>61</td>\n",
       "      <td>input</td>\n",
       "      <td>s.q</td>\n",
       "      <td>325</td>\n",
       "      <td>True</td>\n",
       "      <td>created 5-29-2013   •   20 days 12 hours 21 mins   •   2747 visits, 1652 clicks</td>\n",
       "    </tr>\n",
       "    <tr>\n",
       "      <th>2</th>\n",
       "      <td>67</td>\n",
       "      <td>a</td>\n",
       "      <td>lib.montana.edu/find/</td>\n",
       "      <td>142</td>\n",
       "      <td>True</td>\n",
       "      <td>NaN</td>\n",
       "    </tr>\n",
       "  </tbody>\n",
       "</table>\n",
       "</div>"
      ],
      "text/plain": [
       "   Element ID Tag name                   Name  No. clicks  Visible?  \\\n",
       "0          69        a                   FIND         587      True   \n",
       "1          61    input                    s.q         325      True   \n",
       "2          67        a  lib.montana.edu/find/         142      True   \n",
       "\n",
       "                                                              Snapshot information  \n",
       "0           Homepage Version 3 - Learn   •   http://www.lib.montana.edu/index3.php  \n",
       "1  created 5-29-2013   •   20 days 12 hours 21 mins   •   2747 visits, 1652 clicks  \n",
       "2                                                                              NaN  "
      ]
     },
     "execution_count": 205,
     "metadata": {},
     "output_type": "execute_result"
    }
   ],
   "source": [
    "Learn.head(3)"
   ]
  },
  {
   "cell_type": "code",
   "execution_count": 206,
   "metadata": {},
   "outputs": [
    {
     "data": {
      "text/html": [
       "<div>\n",
       "<style scoped>\n",
       "    .dataframe tbody tr th:only-of-type {\n",
       "        vertical-align: middle;\n",
       "    }\n",
       "\n",
       "    .dataframe tbody tr th {\n",
       "        vertical-align: top;\n",
       "    }\n",
       "\n",
       "    .dataframe thead th {\n",
       "        text-align: right;\n",
       "    }\n",
       "</style>\n",
       "<table border=\"1\" class=\"dataframe\">\n",
       "  <thead>\n",
       "    <tr style=\"text-align: right;\">\n",
       "      <th></th>\n",
       "      <th>Element ID</th>\n",
       "      <th>Tag name</th>\n",
       "      <th>Name</th>\n",
       "      <th>No. clicks</th>\n",
       "      <th>Visible?</th>\n",
       "      <th>Snapshot information</th>\n",
       "    </tr>\n",
       "  </thead>\n",
       "  <tbody>\n",
       "    <tr>\n",
       "      <th>0</th>\n",
       "      <td>74</td>\n",
       "      <td>a</td>\n",
       "      <td>FIND</td>\n",
       "      <td>631</td>\n",
       "      <td>True</td>\n",
       "      <td>Homepage Version 4 - Help   •   http://www.lib.montana.edu/index4.php</td>\n",
       "    </tr>\n",
       "    <tr>\n",
       "      <th>1</th>\n",
       "      <td>66</td>\n",
       "      <td>input</td>\n",
       "      <td>s.q</td>\n",
       "      <td>364</td>\n",
       "      <td>True</td>\n",
       "      <td>created 5-29-2013   •   20 days 4 hours 59 mins   •   3180 visits, 1717 clicks</td>\n",
       "    </tr>\n",
       "    <tr>\n",
       "      <th>2</th>\n",
       "      <td>72</td>\n",
       "      <td>a</td>\n",
       "      <td>lib.montana.edu/find/</td>\n",
       "      <td>139</td>\n",
       "      <td>True</td>\n",
       "      <td>NaN</td>\n",
       "    </tr>\n",
       "  </tbody>\n",
       "</table>\n",
       "</div>"
      ],
      "text/plain": [
       "   Element ID Tag name                   Name  No. clicks  Visible?  \\\n",
       "0          74        a                   FIND         631      True   \n",
       "1          66    input                    s.q         364      True   \n",
       "2          72        a  lib.montana.edu/find/         139      True   \n",
       "\n",
       "                                                             Snapshot information  \n",
       "0           Homepage Version 4 - Help   •   http://www.lib.montana.edu/index4.php  \n",
       "1  created 5-29-2013   •   20 days 4 hours 59 mins   •   3180 visits, 1717 clicks  \n",
       "2                                                                             NaN  "
      ]
     },
     "execution_count": 206,
     "metadata": {},
     "output_type": "execute_result"
    }
   ],
   "source": [
    "Help.head(3)"
   ]
  },
  {
   "cell_type": "code",
   "execution_count": 207,
   "metadata": {},
   "outputs": [
    {
     "data": {
      "text/html": [
       "<div>\n",
       "<style scoped>\n",
       "    .dataframe tbody tr th:only-of-type {\n",
       "        vertical-align: middle;\n",
       "    }\n",
       "\n",
       "    .dataframe tbody tr th {\n",
       "        vertical-align: top;\n",
       "    }\n",
       "\n",
       "    .dataframe thead th {\n",
       "        text-align: right;\n",
       "    }\n",
       "</style>\n",
       "<table border=\"1\" class=\"dataframe\">\n",
       "  <thead>\n",
       "    <tr style=\"text-align: right;\">\n",
       "      <th></th>\n",
       "      <th>Element ID</th>\n",
       "      <th>Tag name</th>\n",
       "      <th>Name</th>\n",
       "      <th>No. clicks</th>\n",
       "      <th>Visible?</th>\n",
       "      <th>Snapshot information</th>\n",
       "    </tr>\n",
       "  </thead>\n",
       "  <tbody>\n",
       "    <tr>\n",
       "      <th>0</th>\n",
       "      <td>69</td>\n",
       "      <td>a</td>\n",
       "      <td>FIND</td>\n",
       "      <td>397</td>\n",
       "      <td>True</td>\n",
       "      <td>Homepage Version 5 - Services   •   http://www.lib.montana.edu/index5.php</td>\n",
       "    </tr>\n",
       "    <tr>\n",
       "      <th>1</th>\n",
       "      <td>61</td>\n",
       "      <td>input</td>\n",
       "      <td>s.q</td>\n",
       "      <td>323</td>\n",
       "      <td>True</td>\n",
       "      <td>created 5-29-2013   •   20 days 4 hours 59 mins   •   2064 visits, 1348 clicks</td>\n",
       "    </tr>\n",
       "    <tr>\n",
       "      <th>2</th>\n",
       "      <td>67</td>\n",
       "      <td>a</td>\n",
       "      <td>lib.montana.edu/find/</td>\n",
       "      <td>106</td>\n",
       "      <td>True</td>\n",
       "      <td>NaN</td>\n",
       "    </tr>\n",
       "    <tr>\n",
       "      <th>3</th>\n",
       "      <td>62</td>\n",
       "      <td>button</td>\n",
       "      <td>Search</td>\n",
       "      <td>85</td>\n",
       "      <td>True</td>\n",
       "      <td>NaN</td>\n",
       "    </tr>\n",
       "  </tbody>\n",
       "</table>\n",
       "</div>"
      ],
      "text/plain": [
       "   Element ID Tag name                   Name  No. clicks  Visible?  \\\n",
       "0          69        a                   FIND         397      True   \n",
       "1          61    input                    s.q         323      True   \n",
       "2          67        a  lib.montana.edu/find/         106      True   \n",
       "3          62   button                 Search          85      True   \n",
       "\n",
       "                                                             Snapshot information  \n",
       "0       Homepage Version 5 - Services   •   http://www.lib.montana.edu/index5.php  \n",
       "1  created 5-29-2013   •   20 days 4 hours 59 mins   •   2064 visits, 1348 clicks  \n",
       "2                                                                             NaN  \n",
       "3                                                                             NaN  "
      ]
     },
     "execution_count": 207,
     "metadata": {},
     "output_type": "execute_result"
    }
   ],
   "source": [
    "Services.head(4)"
   ]
  },
  {
   "cell_type": "code",
   "execution_count": 199,
   "metadata": {
    "scrolled": true
   },
   "outputs": [
    {
     "data": {
      "text/html": [
       "<div>\n",
       "<style scoped>\n",
       "    .dataframe tbody tr th:only-of-type {\n",
       "        vertical-align: middle;\n",
       "    }\n",
       "\n",
       "    .dataframe tbody tr th {\n",
       "        vertical-align: top;\n",
       "    }\n",
       "\n",
       "    .dataframe thead th {\n",
       "        text-align: right;\n",
       "    }\n",
       "</style>\n",
       "<table border=\"1\" class=\"dataframe\">\n",
       "  <thead>\n",
       "    <tr style=\"text-align: right;\">\n",
       "      <th></th>\n",
       "      <th>Interact</th>\n",
       "      <th>Connect</th>\n",
       "      <th>Learn</th>\n",
       "      <th>Help</th>\n",
       "      <th>Services</th>\n",
       "    </tr>\n",
       "  </thead>\n",
       "  <tbody>\n",
       "    <tr>\n",
       "      <th>Total_Click</th>\n",
       "      <td>3714</td>\n",
       "      <td>1587</td>\n",
       "      <td>1652</td>\n",
       "      <td>1717</td>\n",
       "      <td>1348</td>\n",
       "    </tr>\n",
       "    <tr>\n",
       "      <th>Click_CTA</th>\n",
       "      <td>42</td>\n",
       "      <td>53</td>\n",
       "      <td>63</td>\n",
       "      <td>38</td>\n",
       "      <td>45</td>\n",
       "    </tr>\n",
       "    <tr>\n",
       "      <th>Visits</th>\n",
       "      <td>10283</td>\n",
       "      <td>2742</td>\n",
       "      <td>2747</td>\n",
       "      <td>3180</td>\n",
       "      <td>2064</td>\n",
       "    </tr>\n",
       "  </tbody>\n",
       "</table>\n",
       "</div>"
      ],
      "text/plain": [
       "             Interact  Connect  Learn  Help  Services\n",
       "Total_Click      3714     1587   1652  1717      1348\n",
       "Click_CTA          42       53     63    38        45\n",
       "Visits          10283     2742   2747  3180      2064"
      ]
     },
     "execution_count": 199,
     "metadata": {},
     "output_type": "execute_result"
    }
   ],
   "source": [
    "Total_Click = [3714,1587,1652,1717,1348]\n",
    "Click_CTA = [42,53,63,38,45]\n",
    "Visits = [10283,2742,2747,3180,2064 ]\n",
    "\n",
    "observed_results = pd.DataFrame([Total_Click, Click_CTA,Visits],\n",
    "                                  columns = [\"Interact\", \"Connect\", \"Learn\", \"Help\" , \"Services\"],\n",
    "                                  index = [\"Total_Click\", \"Click_CTA\", \"Visits\"])\n",
    "observed_results"
   ]
  },
  {
   "cell_type": "markdown",
   "metadata": {},
   "source": [
    "Null Hypothesis: The 5 versions of the button are equally likely to receive clicks, and the observed differences are due to chance.\n",
    "\n",
    "Alternative Hypothesis: The observed differences are not due to chance: there is at least one version that got so many more/much less clicks than the others that this can hardly be explained just by chance (i.e. they have a better/worse CTR, a better/worse performance).\n"
   ]
  },
  {
   "cell_type": "code",
   "execution_count": 208,
   "metadata": {},
   "outputs": [],
   "source": [
    "# Set the significance level (alpha)\n",
    "alpha=0.10 # for CI 90%"
   ]
  },
  {
   "cell_type": "code",
   "execution_count": 209,
   "metadata": {
    "scrolled": true
   },
   "outputs": [],
   "source": [
    "# Chi-squared test\n",
    "chisq, pvalue, df, expected = chi2_contingency(contingency_table)\n",
    "\n"
   ]
  },
  {
   "cell_type": "code",
   "execution_count": 210,
   "metadata": {},
   "outputs": [
    {
     "data": {
      "text/plain": [
       "1381.1890460824366"
      ]
     },
     "execution_count": 210,
     "metadata": {},
     "output_type": "execute_result"
    }
   ],
   "source": [
    "chisq"
   ]
  },
  {
   "cell_type": "code",
   "execution_count": 218,
   "metadata": {},
   "outputs": [
    {
     "name": "stdout",
     "output_type": "stream",
     "text": [
      "The p-value is smaller than alpha.\n"
     ]
    }
   ],
   "source": [
    "pvalue\n",
    "if pvalue > alpha:\n",
    "  print(\"The p-value is larger than alpha.\")\n",
    "else:\n",
    "  print(\"The p-value is smaller than alpha.\")"
   ]
  },
  {
   "cell_type": "code",
   "execution_count": 214,
   "metadata": {},
   "outputs": [
    {
     "data": {
      "text/plain": [
       "4"
      ]
     },
     "execution_count": 214,
     "metadata": {},
     "output_type": "execute_result"
    }
   ],
   "source": [
    "df"
   ]
  },
  {
   "cell_type": "code",
   "execution_count": 217,
   "metadata": {},
   "outputs": [
    {
     "name": "stdout",
     "output_type": "stream",
     "text": [
      "Reject the null hypothesis: There is a difference in CTR for the different versions.\n"
     ]
    }
   ],
   "source": [
    "if pvalue < alpha:\n",
    "    print(\"Reject the null hypothesis: There is a difference in CTR for the different versions.\")\n",
    "else:\n",
    "    print(\"Fail to reject the null hypothesis: All versions have the same CTR.\")"
   ]
  }
 ],
 "metadata": {
  "kernelspec": {
   "display_name": "Python 3",
   "language": "python",
   "name": "python3"
  },
  "language_info": {
   "codemirror_mode": {
    "name": "ipython",
    "version": 3
   },
   "file_extension": ".py",
   "mimetype": "text/x-python",
   "name": "python",
   "nbconvert_exporter": "python",
   "pygments_lexer": "ipython3",
   "version": "3.8.10"
  }
 },
 "nbformat": 4,
 "nbformat_minor": 4
}
